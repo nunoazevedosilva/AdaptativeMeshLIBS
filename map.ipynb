{
 "cells": [
  {
   "cell_type": "code",
   "execution_count": 1,
   "id": "9dbf5129",
   "metadata": {},
   "outputs": [],
   "source": [
    "from Data_Core.experiment import *\n",
    "%matplotlib notebook"
   ]
  },
  {
   "cell_type": "code",
   "execution_count": 2,
   "id": "124d69ea",
   "metadata": {
    "scrolled": false
   },
   "outputs": [],
   "source": [
    "from shutil import copy\n",
    "\n",
    "folder = r'data/Mapa_Moscovite_final/'\n",
    "folders = [folder+f+'/' for f in os.listdir(folder) if os.path.isdir(folder+f)]\n",
    "folder_copy = r'data/Map/'\n",
    "\n",
    "for i in range(0,len(folders)):\n",
    "    files = [folders[i]+f for f in os.listdir(folders[i]) if '1703275U8' not in f and '0000' not in f]\n",
    "    \n",
    "    if not os.path.exists(folder_copy+folders[i]):\n",
    "        os.makedirs(folder_copy+folders[i])\n",
    "    for j in range(0,len(files)):\n",
    "        copy(files[j],folder_copy+folders[i])"
   ]
  },
  {
   "cell_type": "code",
   "execution_count": 3,
   "id": "dd059ba5",
   "metadata": {},
   "outputs": [],
   "source": [
    "folder = r\"data/Map/data/Mapa_Moscovite_final/\"\n",
    "folders = [folder+f+'/' for f in os.listdir(folder) if os.path.isdir(folder+f)]\n",
    "current_experiment = experiment(folders[0])\n",
    "list_of_experiments = [experiment(f) for f in folders]\n",
    "current_experiment.concatenate(list_of_experiments)"
   ]
  },
  {
   "cell_type": "code",
   "execution_count": null,
   "id": "dc1af633",
   "metadata": {
    "scrolled": true
   },
   "outputs": [
    {
     "name": "stdout",
     "output_type": "stream",
     "text": [
      "Removing baseline 529 of 1252\r"
     ]
    }
   ],
   "source": [
    "for i in range(len(current_experiment.list_of_signals)):\n",
    "    print('Removing baseline ' + str(i) + ' of ' +str(len(current_experiment.list_of_signals)),end='\\r')\n",
    "    current_experiment.list_of_signals[i].remove_baseline()"
   ]
  },
  {
   "cell_type": "code",
   "execution_count": null,
   "id": "e4bffcec",
   "metadata": {},
   "outputs": [],
   "source": [
    "current_experiment.list_of_signals[0].wavelengths"
   ]
  },
  {
   "cell_type": "code",
   "execution_count": null,
   "id": "fdda7a42",
   "metadata": {},
   "outputs": [],
   "source": [
    "x_values,y_values,map_values = current_experiment.make_map(0,specific_wavelength = 670.4,ratio_of_maximum = 0.99, Plotline=True)"
   ]
  },
  {
   "cell_type": "code",
   "execution_count": null,
   "id": "469cd5db",
   "metadata": {},
   "outputs": [],
   "source": []
  }
 ],
 "metadata": {
  "kernelspec": {
   "display_name": "Python 3",
   "language": "python",
   "name": "python3"
  },
  "language_info": {
   "codemirror_mode": {
    "name": "ipython",
    "version": 3
   },
   "file_extension": ".py",
   "mimetype": "text/x-python",
   "name": "python",
   "nbconvert_exporter": "python",
   "pygments_lexer": "ipython3",
   "version": "3.6.12"
  }
 },
 "nbformat": 4,
 "nbformat_minor": 5
}
